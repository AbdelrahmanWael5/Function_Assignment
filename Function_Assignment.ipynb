{
  "cells": [
    {
      "cell_type": "code",
      "execution_count": null,
      "metadata": {
        "colab": {
          "base_uri": "https://localhost:8080/"
        },
        "id": "XhpUAknUbBwe",
        "outputId": "7691d382-f205-46fa-e760-7b383ced0811"
      },
      "outputs": [
        {
          "name": "stdout",
          "output_type": "stream",
          "text": [
            "[1505, 1540, 1575, 1610, 1645, 1680, 1715, 1750, 1785, 1820, 1855, 1890, 1925, 1960, 1995, 2030, 2065, 2100, 2135, 2170, 2205, 2240, 2275, 2310, 2345, 2380, 2415, 2450, 2485, 2520, 2555, 2590, 2625, 2660, 2695]\n"
          ]
        }
      ],
      "source": [
        "\"\"\"Write a Python program to find those numbers which are divisible by 7 and multiples of 5, between 1500 and 2700 (both included).\n",
        "\"\"\"\n",
        "numbers = []\n",
        "i = 1500\n",
        "while i <= 2700:\n",
        "  if i % 7 == 0 and i % 5 == 0:\n",
        "    numbers.append(i)\n",
        "  i += 1\n",
        "print(numbers)\n"
      ]
    },
    {
      "cell_type": "code",
      "execution_count": null,
      "metadata": {
        "colab": {
          "base_uri": "https://localhost:8080/"
        },
        "id": "F1xNKlRcc16F",
        "outputId": "1556c1d4-5186-4757-8c2d-b9639988e8d5"
      },
      "outputs": [
        {
          "name": "stdout",
          "output_type": "stream",
          "text": [
            "Guess a random number between 1 and 9\n",
            "1\n",
            "try again\n",
            "2\n",
            "try again\n",
            "3\n",
            "try again\n",
            "4\n",
            "try again\n",
            "5\n",
            "Congratulations, true guess\n"
          ]
        }
      ],
      "source": [
        "import random\n",
        "true_num = random.randint(1, 9)\n",
        "print(\"Guess a random number between 1 and 9\")\n",
        "while True:\n",
        "  num = int(input())\n",
        "  if num == true_num:\n",
        "    print(\"Congratulations, true guess\")\n",
        "    break\n",
        "  else:\n",
        "    print(\"try again\")\n"
      ]
    },
    {
      "cell_type": "code",
      "execution_count": null,
      "metadata": {
        "colab": {
          "base_uri": "https://localhost:8080/"
        },
        "id": "ByLAQ556eOl3",
        "outputId": "5ac85599-ed74-4508-b240-4b207c5979ad"
      },
      "outputs": [
        {
          "name": "stdout",
          "output_type": "stream",
          "text": [
            "0 1 2 4 5 "
          ]
        }
      ],
      "source": [
        "for i in range(6):\n",
        "  if i == 3:\n",
        "    continue\n",
        "  print(i, end=\" \")"
      ]
    },
    {
      "cell_type": "code",
      "execution_count": null,
      "metadata": {
        "id": "J83NJOpae2fc",
        "colab": {
          "base_uri": "https://localhost:8080/"
        },
        "outputId": "a7f41441-3ad0-4032-8541-cb0b50a2a8f1"
      },
      "outputs": [
        {
          "output_type": "stream",
          "name": "stdout",
          "text": [
            "*\n",
            "**\n",
            "***\n",
            "****\n",
            "*****\n",
            "****\n",
            "***\n",
            "**\n",
            "*\n"
          ]
        }
      ],
      "source": [
        "for i in range(1, 6):\n",
        "  for j in range(1, i+1):\n",
        "    print(\"*\", end=\"\")\n",
        "  print()\n",
        "i = 4\n",
        "while i > 0:\n",
        "  for j in range(1, i+1):\n",
        "    print(\"*\", end=\"\")\n",
        "  print()\n",
        "  i -= 1"
      ]
    },
    {
      "cell_type": "code",
      "execution_count": null,
      "metadata": {
        "colab": {
          "base_uri": "https://localhost:8080/"
        },
        "id": "2GgDwwP4e2zP",
        "outputId": "225871b1-af0c-4b5d-9177-7219a998fe90"
      },
      "outputs": [
        {
          "name": "stdout",
          "output_type": "stream",
          "text": [
            "enter any word: ABC\n",
            "the reverse is CBA\n"
          ]
        }
      ],
      "source": [
        "word = input(\"enter any word: \")\n",
        "rev_word = \"\"\n",
        "i = len(word) - 1\n",
        "while i >= 0:\n",
        "  rev_word += word[i]\n",
        "  i -= 1\n",
        "print(f\"the reverse is {rev_word}\")"
      ]
    },
    {
      "cell_type": "code",
      "execution_count": null,
      "metadata": {
        "colab": {
          "base_uri": "https://localhost:8080/"
        },
        "id": "TIayztjof7Cy",
        "outputId": "7e6d8def-6bfb-436e-dcc1-00b3b719240b"
      },
      "outputs": [
        {
          "name": "stdout",
          "output_type": "stream",
          "text": [
            "[1, 2, 3, 4, 5, 6, 7, 8, 9]\n",
            "number of evens = 4\n",
            "number of odds = 5\n"
          ]
        }
      ],
      "source": [
        "nums = [i for i in range(1, 10)]\n",
        "even = 0\n",
        "odd = 0\n",
        "for i in range(len(nums)):\n",
        "  if nums[i] % 2 == 0:\n",
        "    even += 1\n",
        "  else:\n",
        "    odd += 1\n",
        "print(nums)\n",
        "print(f\"number of evens = {even}\")\n",
        "print(f\"number of odds = {odd}\")"
      ]
    },
    {
      "cell_type": "code",
      "execution_count": null,
      "metadata": {
        "id": "u9EBRQIChBSV"
      },
      "outputs": [],
      "source": [
        "# First letter !!!!!!!!!!!!!!!!!!"
      ]
    },
    {
      "cell_type": "code",
      "execution_count": null,
      "metadata": {
        "colab": {
          "base_uri": "https://localhost:8080/"
        },
        "id": "6ln5y03vhv3i",
        "outputId": "1aa4bfd3-757b-4f08-b23c-55f019bf06f1"
      },
      "outputs": [
        {
          "output_type": "stream",
          "name": "stdout",
          "text": [
            "1 22 333 4444 55555 666666 7777777 88888888 999999999 "
          ]
        }
      ],
      "source": [
        "for i in range(1, 10):\n",
        "  j = i\n",
        "  for j in range(i):\n",
        "    print(i, end=\"\")\n",
        "  print(\" \", end=\"\")"
      ]
    },
    {
      "cell_type": "code",
      "execution_count": null,
      "metadata": {
        "colab": {
          "base_uri": "https://localhost:8080/"
        },
        "id": "xK68M4cVkF0H",
        "outputId": "9fa3c4b0-af60-4c43-c0ee-1ff965b1fa28"
      },
      "outputs": [
        {
          "name": "stdout",
          "output_type": "stream",
          "text": [
            "6\n",
            "6 * 1 = 6\n",
            "6 * 2 = 12\n",
            "6 * 3 = 18\n",
            "6 * 4 = 24\n",
            "6 * 5 = 30\n",
            "6 * 6 = 36\n",
            "6 * 7 = 42\n",
            "6 * 8 = 48\n",
            "6 * 9 = 54\n"
          ]
        }
      ],
      "source": [
        "num = int(input())\n",
        "for i in range(1, 10):\n",
        "    print(f\"{num} * {i} = {i*num}\")"
      ]
    },
    {
      "cell_type": "code",
      "execution_count": null,
      "metadata": {
        "colab": {
          "base_uri": "https://localhost:8080/"
        },
        "id": "NT14yxM2k2IQ",
        "outputId": "1271a520-01e1-4607-f793-76e3caaa5e42"
      },
      "outputs": [
        {
          "name": "stdout",
          "output_type": "stream",
          "text": [
            "Enter a group of integer numbers but not zero: \n",
            "10\n",
            "20\n",
            "30\n",
            "40\n",
            "50\n",
            "0\n",
            "Sum = 150\n",
            "Avarage = 30.0\n"
          ]
        }
      ],
      "source": [
        "numbers = []\n",
        "print(\"Enter a group of integer numbers but not zero: \")\n",
        "while True:\n",
        "  num = int(input())\n",
        "  if num == 0:\n",
        "    break\n",
        "  else:\n",
        "    numbers.append(num)\n",
        "sum = 0\n",
        "avg = 0\n",
        "for i in range(len(numbers)):\n",
        "  sum += numbers[i]\n",
        "avg = sum/len(numbers)\n",
        "print(f\"Sum = {sum}\")\n",
        "print(f\"Avarage = {avg}\")\n"
      ]
    },
    {
      "cell_type": "code",
      "execution_count": null,
      "metadata": {
        "colab": {
          "base_uri": "https://localhost:8080/"
        },
        "id": "XQeuY0jJmBK4",
        "outputId": "9fb83480-741c-4a15-9716-aef4f27b10cc"
      },
      "outputs": [
        {
          "output_type": "stream",
          "name": "stdout",
          "text": [
            "5\n",
            "3\n"
          ]
        }
      ],
      "source": [
        "fib = []\n",
        "# 0 1 1 2 3 5 8 13\n",
        "num = int(input())\n",
        "for i in range(num):\n",
        "  if i == 0 or i == 1:\n",
        "    fib.append(i)\n",
        "  else:\n",
        "    fib.append(fib[i-1] + fib[i-2])\n",
        "print(fib[-1])"
      ]
    },
    {
      "cell_type": "code",
      "execution_count": null,
      "metadata": {
        "colab": {
          "base_uri": "https://localhost:8080/"
        },
        "id": "Z6gMh08RsTUf",
        "outputId": "d9af8ac6-e607-49d9-b319-d76c266dea4b"
      },
      "outputs": [
        {
          "name": "stdout",
          "output_type": "stream",
          "text": [
            "70\n"
          ]
        }
      ],
      "source": [
        "numbers = [10, 20, 30, 50, 40, 70]\n",
        "max = 0\n",
        "for i in range (len(numbers)):\n",
        "  if numbers[i] > max:\n",
        "    max = numbers[i]\n",
        "print (max)"
      ]
    },
    {
      "cell_type": "code",
      "execution_count": null,
      "metadata": {
        "colab": {
          "base_uri": "https://localhost:8080/"
        },
        "id": "lEyuUCdGscVa",
        "outputId": "3414c254-e7d4-4ee8-9372-b99185554e54"
      },
      "outputs": [
        {
          "name": "stdout",
          "output_type": "stream",
          "text": [
            "number of vowels in 'Localization' = 6\n"
          ]
        }
      ],
      "source": [
        "count = 0\n",
        "word = 'Localization'\n",
        "vowels = ['a', 'e', 'i', 'o', 'u', 'y', 'h']\n",
        "for letter in word:\n",
        "  for i in range(len(vowels)):\n",
        "    if letter == vowels[i]:\n",
        "      count += 1\n",
        "      break\n",
        "print(f\"number of vowels in '{word}' = {count}\")"
      ]
    },
    {
      "cell_type": "code",
      "execution_count": null,
      "metadata": {
        "colab": {
          "base_uri": "https://localhost:8080/"
        },
        "id": "atzzd23psjbO",
        "outputId": "23d7adf8-a8ad-499f-e228-df53bd250d21"
      },
      "outputs": [
        {
          "name": "stdout",
          "output_type": "stream",
          "text": [
            "prime numbers in range (1, 10): [2, 3, 5, 7, 11, 13, 17, 19]\n"
          ]
        }
      ],
      "source": [
        "primes = []\n",
        "for i in range(21):\n",
        "  if i > 1:\n",
        "    for j in range (2, i):\n",
        "      if i % j == 0:\n",
        "        break\n",
        "    else:\n",
        "      primes.append(i)\n",
        "\n",
        "print(f\"prime numbers in range (1, 20): {primes}\")\n"
      ]
    },
    {
      "cell_type": "code",
      "execution_count": null,
      "metadata": {
        "colab": {
          "base_uri": "https://localhost:8080/"
        },
        "id": "LKZTLej8soLL",
        "outputId": "157561b1-490d-4034-ce56-bbb2df2a2ecd"
      },
      "outputs": [
        {
          "name": "stdout",
          "output_type": "stream",
          "text": [
            "enter the amount of withdrawal: 500\n",
            "Successful withdrawl, you withraw 500\n",
            "Your balance = 0\n",
            "enter the amount of withdrawal: 30\n",
            "unsuccessful withraw, not enough balance\n"
          ]
        }
      ],
      "source": [
        "balance = 500\n",
        "while True:\n",
        "  num = int(input(\"enter the amount of withdrawal: \"))\n",
        "  balance -= num\n",
        "  if balance >= 0:\n",
        "    print(f\"Successful withdrawl, you withraw {num}\")\n",
        "    print(f\"Your balance = {balance}\")\n",
        "  else:\n",
        "    print(\"unsuccessful withraw, not enough balance\")\n",
        "    break"
      ]
    },
    {
      "cell_type": "code",
      "execution_count": null,
      "metadata": {
        "colab": {
          "base_uri": "https://localhost:8080/"
        },
        "id": "O_oWg_Lms2u2",
        "outputId": "90f93e32-9838-49bf-d1d2-2887a67986a3"
      },
      "outputs": [
        {
          "name": "stdout",
          "output_type": "stream",
          "text": [
            "5 is a common item between the two lists\n"
          ]
        }
      ],
      "source": [
        "lst1 = ['A', 1, 3, 5, 'B']\n",
        "lst2 = [\"ABC\", 4, 2, 8, 5]\n",
        "for i in range(len(lst1)):\n",
        "  for j in range(len(lst2)):\n",
        "    if lst2[j] == lst1[i]:\n",
        "      print(f\"{lst2[j]} is a common item between the two lists\")"
      ]
    },
    {
      "cell_type": "code",
      "execution_count": null,
      "metadata": {
        "colab": {
          "base_uri": "https://localhost:8080/"
        },
        "id": "P092PPTsuDae",
        "outputId": "87d6e082-09e3-4462-fb46-a7de9bccd70b"
      },
      "outputs": [
        {
          "name": "stdout",
          "output_type": "stream",
          "text": [
            "5\n",
            "factorial of 5 = 120\n"
          ]
        }
      ],
      "source": [
        "num = int(input())\n",
        "i = num\n",
        "fact = 1\n",
        "while i > 0:\n",
        "  fact *= i\n",
        "  i -= 1\n",
        "print(f\"factorial of {num} = {fact}\")"
      ]
    },
    {
      "cell_type": "code",
      "execution_count": null,
      "metadata": {
        "id": "SPrdBKVxu7aa",
        "colab": {
          "base_uri": "https://localhost:8080/"
        },
        "outputId": "f074a3cb-4d45-4250-edf2-ae812e39527b"
      },
      "outputs": [
        {
          "name": "stdout",
          "output_type": "stream",
          "text": [
            "2\n",
            "1\n",
            "10\n",
            "11\n"
          ]
        }
      ],
      "source": [
        "while True:\n",
        "  num = int(input())\n",
        "  if num > 10:\n",
        "    break"
      ]
    },
    {
      "cell_type": "code",
      "execution_count": null,
      "metadata": {
        "colab": {
          "base_uri": "https://localhost:8080/"
        },
        "id": "yboyawNhvfGS",
        "outputId": "0ee62cb0-b018-4462-eb95-57c2c0b87699"
      },
      "outputs": [
        {
          "output_type": "stream",
          "name": "stdout",
          "text": [
            "345\n",
            "12.0\n"
          ]
        }
      ],
      "source": [
        "sum = 0\n",
        "num = int(input())\n",
        "while num > 10:\n",
        "    sum += (num%10)\n",
        "    num -= (num%10)\n",
        "    num /= 10\n",
        "sum += num\n",
        "print(sum)"
      ]
    },
    {
      "cell_type": "code",
      "execution_count": null,
      "metadata": {
        "id": "VijRWMb_xK4k"
      },
      "outputs": [],
      "source": [
        "word = input()\n",
        "rev_word = \"\"\n",
        "i = len(word) - 1\n",
        "while i >= 0:\n",
        "  rev_word += word[i]\n",
        "  i -= 1\n",
        "if rev_word == word:\n",
        "  print(f\"'{word}' is plaindrome\")\n",
        "else:\n",
        "  print(f\"'{word}' is not plaindrome\")"
      ]
    },
    {
      "cell_type": "code",
      "execution_count": null,
      "metadata": {
        "id": "ah9gFC3lx-iH",
        "colab": {
          "base_uri": "https://localhost:8080/"
        },
        "outputId": "0494da98-98d2-431d-a0f9-3675cf357bcd"
      },
      "outputs": [
        {
          "output_type": "stream",
          "name": "stdout",
          "text": [
            "{'1': 'A', '2': 'B', '3': 'C'}\n"
          ]
        }
      ],
      "source": [
        "lst1 = ['1', '2', '3']\n",
        "lst2 = ['A', 'B', 'C']\n",
        "dct = {}\n",
        "for i in range(len(lst1)):\n",
        "  dct[lst1[i]] = lst2[i]\n",
        "print(dct)"
      ]
    },
    {
      "cell_type": "code",
      "execution_count": null,
      "metadata": {
        "id": "4BCttLzKyGsn",
        "colab": {
          "base_uri": "https://localhost:8080/"
        },
        "outputId": "96a8e65f-85a4-41b2-b445-5d743a79f06a"
      },
      "outputs": [
        {
          "output_type": "stream",
          "name": "stdout",
          "text": [
            "username: Abdelrahman_Wael\n",
            "password: 12345678\n",
            "Login successfully\n"
          ]
        }
      ],
      "source": [
        "true_username = \"Abdelrahman_Wael\"\n",
        "true_password = \"12345678\"\n",
        "username = input(\"username: \")\n",
        "password = input(\"password: \")\n",
        "if username == true_username and password == true_password:\n",
        "  print(\"Login successfully\")\n",
        "else:\n",
        "  print(\"!username or password is incorrect\")"
      ]
    },
    {
      "cell_type": "code",
      "execution_count": null,
      "metadata": {
        "id": "Lt6oyRx5y8Nd",
        "colab": {
          "base_uri": "https://localhost:8080/"
        },
        "outputId": "50be14ac-d202-4605-9a30-287a8d38f9ae"
      },
      "outputs": [
        {
          "output_type": "stream",
          "name": "stdout",
          "text": [
            "5\n",
            "5 * 1 = 5\n",
            "5 * 2 = 10\n",
            "5 * 3 = 15\n",
            "5 * 4 = 20\n",
            "5 * 5 = 25\n",
            "5 * 6 = 30\n",
            "5 * 7 = 35\n",
            "5 * 8 = 40\n",
            "5 * 9 = 45\n"
          ]
        }
      ],
      "source": [
        "num = int(input())\n",
        "for i in range(1, 10):\n",
        "  print(f\"{num} * {i} = {num * i}\")"
      ]
    },
    {
      "cell_type": "code",
      "source": [
        "def average(nums):\n",
        "  sum = 0\n",
        "  for i in range(len(nums)):\n",
        "    sum += nums[i]\n",
        "  return sum/len(nums)\n",
        "\n",
        "numbers = [i for i in range(1, 11)]\n",
        "print(f\"Average of {numbers} = {average(numbers)}\")"
      ],
      "metadata": {
        "id": "WxQkIIpC6wdg",
        "colab": {
          "base_uri": "https://localhost:8080/"
        },
        "outputId": "cd5690bf-6796-4248-d1f0-1baf7f346ea3"
      },
      "execution_count": 1,
      "outputs": [
        {
          "output_type": "stream",
          "name": "stdout",
          "text": [
            "Average of [1, 2, 3, 4, 5, 6, 7, 8, 9, 10] = 5.5\n"
          ]
        }
      ]
    },
    {
      "cell_type": "code",
      "source": [
        "def longest_word(words):\n",
        "    max_size = 0\n",
        "    longest = \"\"\n",
        "    for i in range(len(words)):\n",
        "        if len(words[i]) > max_size:\n",
        "            max_size = len(words[i])\n",
        "            longest = words[i]\n",
        "    return longest\n",
        "\n",
        "lst = ['Abdelrahman', 'Ahmed', 'Mohamed', 'Generalization', 'Inheritance', 'Polymorphism']\n",
        "print(f\"The longest word within {lst}\\nis '{longest_word(lst)}'\")"
      ],
      "metadata": {
        "id": "TVGJZV7hZqyg",
        "colab": {
          "base_uri": "https://localhost:8080/"
        },
        "outputId": "a21d987d-bd66-4482-ecc2-ac0e21f57aa9"
      },
      "execution_count": null,
      "outputs": [
        {
          "output_type": "stream",
          "name": "stdout",
          "text": [
            "The longest word within ['Abdelrahman', 'Ahmed', 'Mohamed', 'Generalization', 'Inheritance', 'Polymorphism']\n",
            "is 'Generalization'\n"
          ]
        }
      ]
    },
    {
      "cell_type": "code",
      "source": [
        "def check_prime(num):\n",
        "    for i in range(2, num):\n",
        "        if num % i == 0:\n",
        "            return False\n",
        "    return True\n",
        "\n",
        "n = int(input(\"Enter any number: \"))\n",
        "if check_prime(n):\n",
        "    print(f\"{n} is prime\")\n",
        "else:\n",
        "    print(f\"{n} is not prime\")"
      ],
      "metadata": {
        "colab": {
          "base_uri": "https://localhost:8080/"
        },
        "id": "VAMbYqpIYhvg",
        "outputId": "d474d5b0-46e6-4b6c-c102-f2a0792cc086"
      },
      "execution_count": null,
      "outputs": [
        {
          "output_type": "stream",
          "name": "stdout",
          "text": [
            "Enter any number: 7\n",
            "7 is prime\n"
          ]
        }
      ]
    },
    {
      "cell_type": "code",
      "source": [],
      "metadata": {
        "id": "M3m1ndlhYq9H"
      },
      "execution_count": null,
      "outputs": []
    },
    {
      "cell_type": "code",
      "source": [
        "def squares(num):\n",
        "    lst = [i*i for i in range(1, num+1)]\n",
        "    return lst\n",
        "\n",
        "n = int(input())\n",
        "print(squares(n))"
      ],
      "metadata": {
        "id": "-Hndegb0YtDH",
        "colab": {
          "base_uri": "https://localhost:8080/"
        },
        "outputId": "672ee2da-dec2-419e-c801-37abc78bcaab"
      },
      "execution_count": 2,
      "outputs": [
        {
          "output_type": "stream",
          "name": "stdout",
          "text": [
            "5\n",
            "[1, 4, 9, 16, 25]\n"
          ]
        }
      ]
    },
    {
      "cell_type": "code",
      "source": [
        "def convert_to_upper(lst):\n",
        "    new_lst = [word.upper() for word in lst]\n",
        "    return new_lst\n",
        "words = ['Abdelrahman', 'Ahmed', 'Mohamed', 'Generalization', 'Inheritance', 'Polymorphism']\n",
        "print(f\"after converting these words {words} to uppercase letters\\nthis is the result: {convert_to_upper(words)}\")"
      ],
      "metadata": {
        "id": "kM8rhGm9Yx_C",
        "colab": {
          "base_uri": "https://localhost:8080/"
        },
        "outputId": "6ffb9e70-9e1f-4c9f-a003-b83bba16dc9a"
      },
      "execution_count": 3,
      "outputs": [
        {
          "output_type": "stream",
          "name": "stdout",
          "text": [
            "after converting these words ['Abdelrahman', 'Ahmed', 'Mohamed', 'Generalization', 'Inheritance', 'Polymorphism'] to uppercase letters\n",
            "this is the result: ['ABDELRAHMAN', 'AHMED', 'MOHAMED', 'GENERALIZATION', 'INHERITANCE', 'POLYMORPHISM']\n"
          ]
        }
      ]
    },
    {
      "cell_type": "code",
      "source": [
        "def convert_to_fahrenheit(temp):\n",
        "  fahrenheit = ((temp*9)/5)+32\n",
        "  return fahrenheit\n",
        "value = float(input(\"Enter the tempreture value in celcius: \"))\n",
        "print(f\"The tempreture value in fahrenheit = {convert_to_fahrenheit(value)}\")\n"
      ],
      "metadata": {
        "colab": {
          "base_uri": "https://localhost:8080/"
        },
        "id": "0vajQHpZY5ES",
        "outputId": "ebc9ac27-bccd-42c6-8532-37665b731467"
      },
      "execution_count": null,
      "outputs": [
        {
          "output_type": "stream",
          "name": "stdout",
          "text": [
            "Enter the tempreture value in celcius: 30\n",
            "The tempreture value in fahrenheit = 86.0\n"
          ]
        }
      ]
    },
    {
      "cell_type": "code",
      "source": [
        "def find_max(lst):\n",
        "    max_item = 0\n",
        "    for i in range(len(lst)):\n",
        "        if lst[i] > max_item:\n",
        "            max_item = lst[i]\n",
        "    return max_item\n",
        "\n",
        "def find_min(lst):\n",
        "    min_item = 10000\n",
        "    for i in range(len(lst)):\n",
        "        if lst[i] < min_item:\n",
        "            min_item = lst[i]\n",
        "    return min_item\n",
        "\n",
        "nums = [100, 38, 55, 90, 101]\n",
        "print(f\"maximum element in {nums} = {find_max(nums)}\")\n",
        "print(f\"minimum element in {nums} = {find_min(nums)}\")"
      ],
      "metadata": {
        "id": "Z0EPyyy9Y5XC",
        "colab": {
          "base_uri": "https://localhost:8080/"
        },
        "outputId": "f5d73d3d-52aa-4d90-b267-42b49fd34d3a"
      },
      "execution_count": 4,
      "outputs": [
        {
          "output_type": "stream",
          "name": "stdout",
          "text": [
            "maximum element in [100, 38, 55, 90, 101] = 101\n",
            "minimum element in [100, 38, 55, 90, 101] = 38\n"
          ]
        }
      ]
    },
    {
      "cell_type": "code",
      "source": [
        "def check(email):\n",
        "  at_sign = email.count('@')\n",
        "  dot_sign = email.count('.')\n",
        "  if at_sign == 1 and dot_sign == 1:\n",
        "    return True\n",
        "  return False\n",
        "\n",
        "txt = input(\"enter your email: \")\n",
        "if check(txt):\n",
        "  print(\"This is an email\")\n",
        "else:\n",
        "  print(\"Not an email\")"
      ],
      "metadata": {
        "colab": {
          "base_uri": "https://localhost:8080/"
        },
        "id": "gw9PiJnoY_I8",
        "outputId": "53a432f1-fb01-4919-e7df-ae5c5ffecea5"
      },
      "execution_count": null,
      "outputs": [
        {
          "output_type": "stream",
          "name": "stdout",
          "text": [
            "enter your email: Abdelrahman11166@outlook.com\n",
            "This is an email\n"
          ]
        }
      ]
    },
    {
      "cell_type": "code",
      "source": [
        "def count_freq(letter, word):\n",
        "    count = 0\n",
        "    for i in range(len(word)):\n",
        "        if letter == word[i]:\n",
        "            count += 1\n",
        "    return count\n",
        "\n",
        "s = input()\n",
        "st = set(s)\n",
        "lst = list(st)\n",
        "lst.sort()\n",
        "print(f\"In {s} there are: \")\n",
        "for l in lst:\n",
        "    print(f\"{count_freq(l, s)}'{l}'\")"
      ],
      "metadata": {
        "id": "X68w79lyZA_U",
        "colab": {
          "base_uri": "https://localhost:8080/"
        },
        "outputId": "21fc4c3c-7386-4297-d718-3546dbd3e406"
      },
      "execution_count": 5,
      "outputs": [
        {
          "output_type": "stream",
          "name": "stdout",
          "text": [
            "abdelrahman\n",
            "In abdelrahman there are: \n",
            "3'a'\n",
            "1'b'\n",
            "1'd'\n",
            "1'e'\n",
            "1'h'\n",
            "1'l'\n",
            "1'm'\n",
            "1'n'\n",
            "1'r'\n"
          ]
        }
      ]
    },
    {
      "cell_type": "code",
      "source": [],
      "metadata": {
        "id": "lM42X1PB7J36"
      },
      "execution_count": null,
      "outputs": []
    }
  ],
  "metadata": {
    "colab": {
      "provenance": []
    },
    "kernelspec": {
      "display_name": "Python 3",
      "name": "python3"
    },
    "language_info": {
      "name": "python"
    }
  },
  "nbformat": 4,
  "nbformat_minor": 0
}